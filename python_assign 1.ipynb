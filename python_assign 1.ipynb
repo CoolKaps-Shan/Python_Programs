{
 "cells": [
  {
   "cell_type": "code",
   "execution_count": null,
   "metadata": {},
   "outputs": [],
   "source": [
    "user_input = input(\"enter your name : \")\n",
    "if ((user_input.isalpha()== True) or (user_input.isspace()==True)): \n",
    "    print(\"hi \" +user_input)\n",
    "else :\n",
    "    print(\"pls enetr valid name\")"
   ]
  },
  {
   "cell_type": "code",
   "execution_count": null,
   "metadata": {},
   "outputs": [],
   "source": [
    "import datetime\n",
    "print(datetime.datetime.now())"
   ]
  },
  {
   "cell_type": "code",
   "execution_count": null,
   "metadata": {},
   "outputs": [],
   "source": [
    "import datetime\n",
    "print(datetime.datetime.now().time())"
   ]
  },
  {
   "cell_type": "code",
   "execution_count": null,
   "metadata": {},
   "outputs": [],
   "source": [
    "import datetime\n",
    "\n",
    "user_inputs = input (\"enter your name : \")\n",
    "time = datetime.datetime.now().time()\n",
    "print(time)\n",
    "hours = time.hour\n",
    "#print(hours)\n",
    "def show_time():\n",
    "    for i in user_inputs :\n",
    "        if ((user_inputs.isalpha()==True ) and (user_inputs.isspace() == False) and (user_inputs.isnumeric()==False)):\n",
    "            if (hours < 12) :\n",
    "                print(\"hi \"+user_inputs,\"good morning macha\")\n",
    "            elif (hours >= 12 and hours < 18 ):\n",
    "                print(\"hi \"+user_inputs,\"good afternoon macha\")\n",
    "            else :\n",
    "                print(\"hi\"+user_inputs,\"good evening macha\")\n",
    "        else:\n",
    "            print(\" bro !! enter valid name  \")\n",
    "show_time()"
   ]
  },
  {
   "cell_type": "code",
   "execution_count": null,
   "metadata": {},
   "outputs": [],
   "source": [
    "import datetime\n",
    "\n",
    "#user_inputs = input (\"enter your name : \")\n",
    "time = datetime.datetime.now().time()\n",
    "#print(user_inputs)\n",
    "hours = time.hour\n",
    "#print(hours)\n",
    "def show_time():\n",
    "    try :\n",
    "        user_inputs = input(\"enter your name : \")\n",
    "        for i in user_inputs :\n",
    "            print (i)\n",
    "            if ((i.isalpha()==True ) and (i.isspace() == False) and (i.isnumeric()==False)):\n",
    "                if (hours < 12) :\n",
    "                    print(\"hi \"+user_inputs,\"good morning macha\")\n",
    "                    break\n",
    "                elif (hours >= 12 and hours < 18 ):\n",
    "                    print(\"hi \"+user_inputs,\"good afternoon macha\")\n",
    "                    break\n",
    "                else :\n",
    "                    print(\"hi \"+user_inputs,\"good evening macha\")\n",
    "                    break\n",
    "            else:\n",
    "                print(\" bro !! enter valid name  \")\n",
    "                break\n",
    "    except ValueError:\n",
    "        print(\"enter string and not : \"+user_inputs)\n",
    "show_time()"
   ]
  },
  {
   "cell_type": "markdown",
   "metadata": {},
   "source": []
  },
  {
   "cell_type": "code",
   "execution_count": null,
   "metadata": {},
   "outputs": [],
   "source": [
    "name = input(\"enter your name : \")\n",
    "#users = type(name)\n",
    "#print(name)\n",
    "#char = [\"a\",\"b\",\"c\",\"d\",\"e\",\"f\",\"g\",\"h\",\"i\",\"j\",\"k\",\"l\",\"m\",\"n\",\"o\",\"p\",\"q\",\"r\",\"s\",\"t\",\"u\",\"v\",\"w\",\"x\",\"y\",\"z\"]\n",
    "for i in range(a,z) :\n",
    "    if (i in  char) :\n",
    "        print(\"hi \" +name)\n",
    "    else :\n",
    "        print(\"blaim ur parents\")"
   ]
  },
  {
   "cell_type": "code",
   "execution_count": null,
   "metadata": {},
   "outputs": [],
   "source": [
    "import datetime\n",
    "time = datetime.datetime.now().time()\n",
    "#print(user_inputs)\n",
    "hours = time.hour\n",
    "\n",
    "\n",
    "def y():\n",
    "    kk = input(\"enter name : \")\n",
    "    flag = 0\n",
    "    for i in kk:\n",
    "        if ((i.isalpha()==True ) and (i.isspace() == False) and (i.isnumeric()==False)):\n",
    "            flag = 0\n",
    "        else:\n",
    "            flag = 1\n",
    "            break\n",
    "            \n",
    "    if flag == 0:        \n",
    "        if (hours < 12) :\n",
    "            print(\"hi \"+kk,\"good morning macha\")\n",
    "        elif (hours >= 12 and hours < 18 ):\n",
    "            print(\"hi \"+kk,\"good afternoon macha\")\n",
    "        else :\n",
    "            print(\"hi \"+kk,\"good evening macha\")\n",
    "    else:\n",
    "        print(\" bro !! enter valid name  \")\n",
    "        y()\n",
    "    \n",
    "y()"
   ]
  },
  {
   "cell_type": "code",
   "execution_count": null,
   "metadata": {},
   "outputs": [],
   "source": []
  },
  {
   "cell_type": "code",
   "execution_count": null,
   "metadata": {},
   "outputs": [],
   "source": [
    "#circumfr and area\n",
    "def ALL():\n",
    "    try :\n",
    "        rad = float(input(\"enter radius :  \"))\n",
    "        if (rad >=0.001):\n",
    "            def circumference():\n",
    "                circum = 2*3.14*rad\n",
    "                print(circum)\n",
    "    \n",
    "            def areas():\n",
    "                area = 3.14*rad**2\n",
    "                print(area)\n",
    "        #break\n",
    "        \n",
    "            circumference()\n",
    "            areas()\n",
    "        else :\n",
    "            print(\"enter +ve nos\")\n",
    "    \n",
    "    except ValueError:\n",
    "        print(\"That's not an float/int\")\n",
    "        \n",
    "ALL()\n"
   ]
  },
  {
   "cell_type": "code",
   "execution_count": null,
   "metadata": {},
   "outputs": [],
   "source": [
    "#circumfr and area\n",
    "try :\n",
    "    rad = float(input(\"enter radius :  \"))\n",
    "    if (rad >0):\n",
    "        flag = 1\n",
    "    else :\n",
    "        print(\"enter +ve nos\")\n",
    "except ValueError:\n",
    "    print(\"That's not an float/int\")\n",
    "    \n",
    "\n",
    "\n",
    "if (flag ==1):\n",
    "    def circumference():\n",
    "        circum = 2*3.14*rad\n",
    "        print(circum)\n",
    "        #break\n",
    "    def areas():\n",
    "        area = 3.14*rad**2\n",
    "        print(area)\n",
    "    \n",
    "    circumference()\n",
    "    areas()"
   ]
  },
  {
   "cell_type": "code",
   "execution_count": null,
   "metadata": {},
   "outputs": [],
   "source": []
  },
  {
   "cell_type": "code",
   "execution_count": null,
   "metadata": {},
   "outputs": [],
   "source": []
  },
  {
   "cell_type": "code",
   "execution_count": null,
   "metadata": {},
   "outputs": [],
   "source": [
    "#7.  Given the area of the circle, write a program to print the radius\n",
    "import numpy as np\n",
    "def ALL():\n",
    "    try :\n",
    "        area_of_circle = float(input(\"enter area of circle :  \"))\n",
    "        if (area_of_circle >=0.0000000000000001):\n",
    "            def rad():\n",
    "                #radius = (area_of_circle / 3.14)**(.5)\n",
    "                radius = (area_of_circle / 3.14)\n",
    "                radius_only = np.sqrt(radius)\n",
    "                print(radius_only)\n",
    "    \n",
    "            rad()\n",
    "        else :\n",
    "            print(\"enter +ve nos\")\n",
    "    \n",
    "    except ValueError:\n",
    "        print(\"enter +ve no not Special Char\")\n",
    "        \n",
    "ALL()\n"
   ]
  },
  {
   "cell_type": "code",
   "execution_count": null,
   "metadata": {},
   "outputs": [],
   "source": []
  },
  {
   "cell_type": "code",
   "execution_count": null,
   "metadata": {},
   "outputs": [],
   "source": []
  },
  {
   "cell_type": "code",
   "execution_count": 122,
   "metadata": {},
   "outputs": [
    {
     "name": "stdout",
     "output_type": "stream",
     "text": [
      "enter 1st nos : 6\n",
      "[7, 9, 11, 13, 15, 17, 19, 21, 23, 25, 27, 29, 31, 33, 35]\n",
      "the 2 nd prime no is  7\n"
     ]
    }
   ],
   "source": [
    "# Python program to display next prime\n",
    "def Prime():\n",
    "    try :\n",
    "        initial_no = int(input(\"enter 1st nos : \"))\n",
    "        range_upto = initial_no**2\n",
    "        lists = []\n",
    "        if (initial_no >1):\n",
    "            \n",
    "            def next_prime():\n",
    "                for num in range(initial_no+1,range_upto):\n",
    "                    if num >= 1:\n",
    "                        for i in range(2,num):\n",
    "                            if (num % i) == 0:\n",
    "                                break\n",
    "                            else:\n",
    "                                lists.append(num)\n",
    "                                break\n",
    "                            \n",
    "                    else:\n",
    "                        print(\"enter +ve no\")\n",
    "            next_prime()\n",
    "            print(lists)\n",
    "            print(\"the 2 nd prime no is \",+lists[0])\n",
    "        \n",
    "        else :\n",
    "            print(\"+ve \")\n",
    "    except ValueError :\n",
    "        print(\"dont use special char use only int\")\n",
    "        \n",
    "Prime()"
   ]
  },
  {
   "cell_type": "code",
   "execution_count": null,
   "metadata": {},
   "outputs": [],
   "source": []
  },
  {
   "cell_type": "code",
   "execution_count": 130,
   "metadata": {},
   "outputs": [
    {
     "name": "stdout",
     "output_type": "stream",
     "text": [
      "bo jkl\n",
      "enter valid nos \n"
     ]
    }
   ],
   "source": [
    "def original():\n",
    "    try :\n",
    "        num = int(input(\"bo \"))\n",
    "        n= num//2;\n",
    "        print(n)\n",
    "        if (num > 1):\n",
    "            for i in range(2, n):\n",
    "                \n",
    "                if (num % i == 0):\n",
    "                    print(num,\"is not a prime number\")\n",
    "                    break\n",
    "            else:\n",
    "                print(\"Prime number...yesssssssssss\")\n",
    "                   \n",
    "                \n",
    "                \n",
    "        else:\n",
    "            print(num,\" enter the number above 1\")\n",
    "    except ValueError:\n",
    "        print(\"enter valid nos \")\n",
    "original()"
   ]
  },
  {
   "cell_type": "code",
   "execution_count": 135,
   "metadata": {},
   "outputs": [
    {
     "name": "stdout",
     "output_type": "stream",
     "text": [
      "enter sentancxesbhushan kapat\n",
      "bhushan kapat"
     ]
    }
   ],
   "source": [
    "read = input (\"enter sentancxes\")\n",
    "l1 =[]\n",
    "#reads=list(read)\n",
    "\n",
    "#readss=reads.append(l1)\n",
    "for i in read:\n",
    "    print(i,end=\"\")"
   ]
  },
  {
   "cell_type": "code",
   "execution_count": null,
   "metadata": {},
   "outputs": [],
   "source": [
    "#Given few words, convert them to lowercase, UPPERCASEand CamelCase. Print them to the console\n",
    "\n",
    "string = \"i love my india a lot\""
   ]
  }
 ],
 "metadata": {
  "kernelspec": {
   "display_name": "Python 3",
   "language": "python",
   "name": "python3"
  },
  "language_info": {
   "codemirror_mode": {
    "name": "ipython",
    "version": 3
   },
   "file_extension": ".py",
   "mimetype": "text/x-python",
   "name": "python",
   "nbconvert_exporter": "python",
   "pygments_lexer": "ipython3",
   "version": "3.5.2"
  }
 },
 "nbformat": 4,
 "nbformat_minor": 2
}
